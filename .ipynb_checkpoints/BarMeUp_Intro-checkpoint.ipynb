{
 "cells": [
  {
   "cell_type": "markdown",
   "metadata": {},
   "source": [
    "# Bare-bores interface to the BarMeUp code\n",
    "This replicates the `bar_optimization.ipynb` notebook but using the new library. Let's see"
   ]
  },
  {
   "cell_type": "code",
   "execution_count": 1,
   "metadata": {},
   "outputs": [],
   "source": [
    "# All the import statements\n",
    "import numpy as np\n",
    "import pandas as pd\n",
    "from barmeup import Ingredient\n",
    "from barmeup import ModelBuilder\n",
    "\n",
    "# The original data\n",
    "drinks ={\n",
    "    \"gnt\":['gin', 'tonic'],\n",
    "    \"negroni\":[\"gin\", \"campari\", \"vermouth_rosso\"],\n",
    "    \"americano\":[\"soda\", \"campari\", \"vermouth_rosso\"],\n",
    "    \"cuba_libre\":[\"rum\", \"coke\"],    \n",
    "    \"manhatten\":[\"bourbon\", \"vermouth_rosso\",\"angostura\",\"lillet_blanc\"],\n",
    "    \"whiskey_sour\":[\"whiskey\", \"lemon_juice\", \"simple_syrup\"],\n",
    "    \"old_fashioned\":[\"bourbon\",\"angostura\",\"simple_syrup\"],\n",
    "    \"martini\":[\"gin\",\"lillet_blanc\"],\n",
    "    \"bellini\":[\"prosecco\", \"peach_puree\"],\n",
    "    \"aperol_spritz\":[\"prosecco\",\"aperol\"],\n",
    "    \"perfect_guest\":[\"vodka\", \"lillet_blanc\",\"st_germain_elderflower_liquer\",\"angostura\"],\n",
    "    \"perfect_olivia\":[\"gin\", \"lillet_blanc\",\"st_germain_elderflower_liquer\",\"angostura\"],\n",
    "    \"hemingway_daqueri\":[\"rum\", \"pink_graperuit_juice\", \"maraschino_liquer\", \"lime_juice\", \"simple_syrup\"],\n",
    "    \"daqueri\":[\"rum\", \"lime_juice\", ],\n",
    "    \"last_word\":[\"gin\", \"chartreuse\",\"maraschino_liquer\", \"lime_juice\"],\n",
    "    \"vesper\": [\"gin\", \"vodka\", \"lillet_blanc\"],\n",
    "    \"tom_collins\":[\"gin\", \"simple_syrup\", \"lemon_juice\", \"soda\"],\n",
    "    \"fitzgerals\":[\"gin\",\"simple_syrup\",\"lemon_juice\",\"angostura\"],\n",
    "    \"bramble\":[\"gin\",\"creme_de_mure\",\"simple_syrup\", \"lemon_juice\", \"soda\"],\n",
    "    \"paloma_t\":[\"tequila\", \"grapefruite_soda\", \"lime_juice\"],\n",
    "    \"french_75\": [\"gin\", \"champagne\", \"lemon_juice\", \"simple_syrup\"],\n",
    "    \"italian_75\": [\"gin\", \"prosecco\", \"lemon_juice\", \"simple_syrup\"],\n",
    "    \"amaretto_sour\":[\"amaretto\", \"lemon_juice\", \"angostura\"],\n",
    "    \"gimlet\":[\"gin\",\"lime_juice\", \"simple_syrup\"],\n",
    "    \"espresso_martini\":[\"vodka\", \"coffee_liqueur\", \"coffee\"],\n",
    "    \"oh_snap\":[\"gin\",\"maraschino_liquer\",\"st_germain_elderflower_liquer\", \"lemon_juice\"],\n",
    "    \"last_word\":[\"gin\",\"chartreuse\", \"maraschino_liquer\", \"lime_juice\"],\n",
    "    \"hanky_panky\":[\"gin\", \"vermouth_rosso\", \"amaro\"],\n",
    "    \"soho_house_tonic\":[\"gin\",\"cucumber\",\"lime_juice\", \"simple_syrup\", \"mint\"]\n",
    "    \n",
    "}"
   ]
  },
  {
   "cell_type": "markdown",
   "metadata": {},
   "source": [
    "## Data\n",
    "First, let cast the input data into the `Drinks` and `Ingredient` classes:"
   ]
  },
  {
   "cell_type": "code",
   "execution_count": 2,
   "metadata": {},
   "outputs": [],
   "source": [
    "purchase = sorted({x for v in drinks.values() for x in v})\n",
    "list_of_ingredients = [Ingredient.Ingredient(p) for p in purchase]\n",
    "list_of_drinks = []\n",
    "for d in drinks:\n",
    "    ingredients = [i for i in list_of_ingredients if i.name in drinks[d]]\n",
    "    list_of_drinks.append(Ingredient.Drink(d, ingredients))"
   ]
  },
  {
   "cell_type": "markdown",
   "metadata": {},
   "source": [
    "## Solve the problem\n",
    "Now we use the model builder to solve the problem:"
   ]
  },
  {
   "cell_type": "code",
   "execution_count": 3,
   "metadata": {},
   "outputs": [
    {
     "name": "stderr",
     "output_type": "stream",
     "text": [
      "An error occurred while loading the CBC library:\t cannot load library '/Users/oberdieck/opt/anaconda3/lib/python3.7/site-packages/mip/libraries/cbc-c-darwin-x86-64.dylib': dlopen(/Users/oberdieck/opt/anaconda3/lib/python3.7/site-packages/mip/libraries/cbc-c-darwin-x86-64.dylib, 2): Library not loaded: /usr/local/opt/gmp/lib/libgmp.10.dylib\n",
      "  Referenced from: /Users/oberdieck/opt/anaconda3/lib/python3.7/site-packages/mip/libraries/cbc-c-darwin-x86-64.dylib\n",
      "  Reason: image not found.  Additionally, ctypes.util.find_library() did not manage to locate a library called '/Users/oberdieck/opt/anaconda3/lib/python3.7/site-packages/mip/libraries/cbc-c-darwin-x86-64.dylib'\n",
      "\n"
     ]
    },
    {
     "ename": "NameError",
     "evalue": "name 'cbclib' is not defined",
     "output_type": "error",
     "traceback": [
      "\u001b[0;31m---------------------------------------------------------------------------\u001b[0m",
      "\u001b[0;31mNameError\u001b[0m                                 Traceback (most recent call last)",
      "\u001b[0;32m<ipython-input-3-0d538bf367ff>\u001b[0m in \u001b[0;36m<module>\u001b[0;34m\u001b[0m\n\u001b[0;32m----> 1\u001b[0;31m \u001b[0mmb\u001b[0m \u001b[0;34m=\u001b[0m \u001b[0mModelBuilder\u001b[0m\u001b[0;34m.\u001b[0m\u001b[0mModelBuilder\u001b[0m\u001b[0;34m(\u001b[0m\u001b[0mlist_of_drinks\u001b[0m\u001b[0;34m,\u001b[0m \u001b[0mlist_of_ingredients\u001b[0m\u001b[0;34m,\u001b[0m \u001b[0;36m5\u001b[0m\u001b[0;34m)\u001b[0m\u001b[0;34m\u001b[0m\u001b[0;34m\u001b[0m\u001b[0m\n\u001b[0m",
      "\u001b[0;32m~/Documents/personal/BarMeUp/BarMeUp/barmeup/ModelBuilder.py\u001b[0m in \u001b[0;36m__init__\u001b[0;34m(self, drinks, ingredients, n)\u001b[0m\n\u001b[1;32m      7\u001b[0m         \u001b[0mself\u001b[0m\u001b[0;34m.\u001b[0m\u001b[0mingredients\u001b[0m \u001b[0;34m=\u001b[0m \u001b[0mingredients\u001b[0m\u001b[0;34m\u001b[0m\u001b[0;34m\u001b[0m\u001b[0m\n\u001b[1;32m      8\u001b[0m         \u001b[0mself\u001b[0m\u001b[0;34m.\u001b[0m\u001b[0mn\u001b[0m \u001b[0;34m=\u001b[0m \u001b[0mn\u001b[0m\u001b[0;34m\u001b[0m\u001b[0;34m\u001b[0m\u001b[0m\n\u001b[0;32m----> 9\u001b[0;31m         \u001b[0mself\u001b[0m\u001b[0;34m.\u001b[0m\u001b[0mmodel\u001b[0m \u001b[0;34m=\u001b[0m \u001b[0mModelContainer\u001b[0m\u001b[0;34m(\u001b[0m\u001b[0mingredients\u001b[0m\u001b[0;34m,\u001b[0m \u001b[0mdrinks\u001b[0m\u001b[0;34m)\u001b[0m\u001b[0;34m\u001b[0m\u001b[0;34m\u001b[0m\u001b[0m\n\u001b[0m\u001b[1;32m     10\u001b[0m \u001b[0;34m\u001b[0m\u001b[0m\n\u001b[1;32m     11\u001b[0m     \u001b[0;32mdef\u001b[0m \u001b[0m_create_variables\u001b[0m\u001b[0;34m(\u001b[0m\u001b[0mself\u001b[0m\u001b[0;34m)\u001b[0m\u001b[0;34m:\u001b[0m\u001b[0;34m\u001b[0m\u001b[0;34m\u001b[0m\u001b[0m\n",
      "\u001b[0;32m~/Documents/personal/BarMeUp/BarMeUp/barmeup/ModelContainer.py\u001b[0m in \u001b[0;36m__init__\u001b[0;34m(self, ingredients, drinks)\u001b[0m\n\u001b[1;32m      5\u001b[0m \u001b[0;32mclass\u001b[0m \u001b[0mModelContainer\u001b[0m\u001b[0;34m:\u001b[0m\u001b[0;34m\u001b[0m\u001b[0;34m\u001b[0m\u001b[0m\n\u001b[1;32m      6\u001b[0m     \u001b[0;32mdef\u001b[0m \u001b[0m__init__\u001b[0m\u001b[0;34m(\u001b[0m\u001b[0mself\u001b[0m\u001b[0;34m,\u001b[0m \u001b[0mingredients\u001b[0m\u001b[0;34m,\u001b[0m \u001b[0mdrinks\u001b[0m\u001b[0;34m)\u001b[0m\u001b[0;34m:\u001b[0m\u001b[0;34m\u001b[0m\u001b[0;34m\u001b[0m\u001b[0m\n\u001b[0;32m----> 7\u001b[0;31m         \u001b[0mself\u001b[0m\u001b[0;34m.\u001b[0m\u001b[0mmodel\u001b[0m \u001b[0;34m=\u001b[0m \u001b[0mmip\u001b[0m\u001b[0;34m.\u001b[0m\u001b[0mModel\u001b[0m\u001b[0;34m(\u001b[0m\u001b[0;34m\"BarMeUp\"\u001b[0m\u001b[0;34m,\u001b[0m \u001b[0msolver_name\u001b[0m\u001b[0;34m=\u001b[0m\u001b[0mmip\u001b[0m\u001b[0;34m.\u001b[0m\u001b[0mCBC\u001b[0m\u001b[0;34m)\u001b[0m\u001b[0;34m\u001b[0m\u001b[0;34m\u001b[0m\u001b[0m\n\u001b[0m\u001b[1;32m      8\u001b[0m         \u001b[0mself\u001b[0m\u001b[0;34m.\u001b[0m\u001b[0mingredients\u001b[0m \u001b[0;34m=\u001b[0m \u001b[0mingredients\u001b[0m\u001b[0;34m\u001b[0m\u001b[0;34m\u001b[0m\u001b[0m\n\u001b[1;32m      9\u001b[0m         \u001b[0mself\u001b[0m\u001b[0;34m.\u001b[0m\u001b[0mdrinks\u001b[0m \u001b[0;34m=\u001b[0m \u001b[0mdrinks\u001b[0m\u001b[0;34m\u001b[0m\u001b[0;34m\u001b[0m\u001b[0m\n",
      "\u001b[0;32m~/opt/anaconda3/lib/python3.7/site-packages/mip/model.py\u001b[0m in \u001b[0;36m__init__\u001b[0;34m(self, name, sense, solver_name, solver)\u001b[0m\n\u001b[1;32m    103\u001b[0m                 \u001b[0mself\u001b[0m\u001b[0;34m.\u001b[0m\u001b[0msolver\u001b[0m \u001b[0;34m=\u001b[0m \u001b[0mSolverGurobi\u001b[0m\u001b[0;34m(\u001b[0m\u001b[0mself\u001b[0m\u001b[0;34m,\u001b[0m \u001b[0mname\u001b[0m\u001b[0;34m,\u001b[0m \u001b[0msense\u001b[0m\u001b[0;34m)\u001b[0m\u001b[0;34m\u001b[0m\u001b[0;34m\u001b[0m\u001b[0m\n\u001b[1;32m    104\u001b[0m             \u001b[0;32melif\u001b[0m \u001b[0mself\u001b[0m\u001b[0;34m.\u001b[0m\u001b[0msolver_name\u001b[0m\u001b[0;34m.\u001b[0m\u001b[0mupper\u001b[0m\u001b[0;34m(\u001b[0m\u001b[0;34m)\u001b[0m \u001b[0;34m==\u001b[0m \u001b[0;34m\"CBC\"\u001b[0m\u001b[0;34m:\u001b[0m\u001b[0;34m\u001b[0m\u001b[0;34m\u001b[0m\u001b[0m\n\u001b[0;32m--> 105\u001b[0;31m                 \u001b[0;32mfrom\u001b[0m \u001b[0mmip\u001b[0m\u001b[0;34m.\u001b[0m\u001b[0mcbc\u001b[0m \u001b[0;32mimport\u001b[0m \u001b[0mSolverCbc\u001b[0m\u001b[0;34m\u001b[0m\u001b[0;34m\u001b[0m\u001b[0m\n\u001b[0m\u001b[1;32m    106\u001b[0m \u001b[0;34m\u001b[0m\u001b[0m\n\u001b[1;32m    107\u001b[0m                 \u001b[0mself\u001b[0m\u001b[0;34m.\u001b[0m\u001b[0msolver\u001b[0m \u001b[0;34m=\u001b[0m \u001b[0mSolverCbc\u001b[0m\u001b[0;34m(\u001b[0m\u001b[0mself\u001b[0m\u001b[0;34m,\u001b[0m \u001b[0mname\u001b[0m\u001b[0;34m,\u001b[0m \u001b[0msense\u001b[0m\u001b[0;34m)\u001b[0m\u001b[0;34m\u001b[0m\u001b[0;34m\u001b[0m\u001b[0m\n",
      "\u001b[0;32m~/opt/anaconda3/lib/python3.7/site-packages/mip/cbc.py\u001b[0m in \u001b[0;36m<module>\u001b[0;34m\u001b[0m\n\u001b[1;32m    527\u001b[0m \u001b[0;34m\u001b[0m\u001b[0m\n\u001b[1;32m    528\u001b[0m \u001b[0;34m\u001b[0m\u001b[0m\n\u001b[0;32m--> 529\u001b[0;31m \u001b[0mOsi_getNumCols\u001b[0m \u001b[0;34m=\u001b[0m \u001b[0mcbclib\u001b[0m\u001b[0;34m.\u001b[0m\u001b[0mOsi_getNumCols\u001b[0m\u001b[0;34m\u001b[0m\u001b[0;34m\u001b[0m\u001b[0m\n\u001b[0m\u001b[1;32m    530\u001b[0m \u001b[0mOsi_getColSolution\u001b[0m \u001b[0;34m=\u001b[0m \u001b[0mcbclib\u001b[0m\u001b[0;34m.\u001b[0m\u001b[0mOsi_getColSolution\u001b[0m\u001b[0;34m\u001b[0m\u001b[0;34m\u001b[0m\u001b[0m\n\u001b[1;32m    531\u001b[0m \u001b[0mOsi_getIntegerTolerance\u001b[0m \u001b[0;34m=\u001b[0m \u001b[0mcbclib\u001b[0m\u001b[0;34m.\u001b[0m\u001b[0mOsi_getIntegerTolerance\u001b[0m\u001b[0;34m\u001b[0m\u001b[0;34m\u001b[0m\u001b[0m\n",
      "\u001b[0;31mNameError\u001b[0m: name 'cbclib' is not defined"
     ]
    }
   ],
   "source": [
    "mb = ModelBuilder.ModelBuilder(list_of_drinks, list_of_ingredients, 5)"
   ]
  },
  {
   "cell_type": "code",
   "execution_count": null,
   "metadata": {},
   "outputs": [],
   "source": [
    "mb.solve()"
   ]
  },
  {
   "cell_type": "code",
   "execution_count": null,
   "metadata": {},
   "outputs": [],
   "source": [
    "list_of_ingredients"
   ]
  },
  {
   "cell_type": "code",
   "execution_count": null,
   "metadata": {},
   "outputs": [],
   "source": [
    "import mip\n",
    "model = mip.Model(\"Test\")"
   ]
  },
  {
   "cell_type": "code",
   "execution_count": null,
   "metadata": {},
   "outputs": [],
   "source": [
    "p = {i : model.add_var(var_type=mip.BINARY) for i in list_of_ingredients}"
   ]
  },
  {
   "cell_type": "code",
   "execution_count": null,
   "metadata": {},
   "outputs": [],
   "source": [
    "y = {d: model.add_var(var_type=mip.BINARY) for d in list_of_drinks}"
   ]
  },
  {
   "cell_type": "code",
   "execution_count": null,
   "metadata": {},
   "outputs": [],
   "source": [
    "list_of_drinks[0]"
   ]
  },
  {
   "cell_type": "code",
   "execution_count": null,
   "metadata": {},
   "outputs": [],
   "source": []
  }
 ],
 "metadata": {
  "kernelspec": {
   "display_name": "Python 3",
   "language": "python",
   "name": "python3"
  },
  "language_info": {
   "codemirror_mode": {
    "name": "ipython",
    "version": 3
   },
   "file_extension": ".py",
   "mimetype": "text/x-python",
   "name": "python",
   "nbconvert_exporter": "python",
   "pygments_lexer": "ipython3",
   "version": "3.7.6"
  }
 },
 "nbformat": 4,
 "nbformat_minor": 4
}
