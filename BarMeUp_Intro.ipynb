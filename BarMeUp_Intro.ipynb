{
 "cells": [
  {
   "cell_type": "markdown",
   "metadata": {},
   "source": [
    "# Bare-bores interface to the BarMeUp code\n",
    "This replicates the `bar_optimization.ipynb` notebook but using the new library. Let's see"
   ]
  },
  {
   "cell_type": "code",
   "execution_count": 1,
   "metadata": {},
   "outputs": [],
   "source": [
    "# All the import statements\n",
    "import numpy as np\n",
    "import pandas as pd\n",
    "from barmeup import Ingredient\n",
    "from barmeup import ModelBuilder\n",
    "\n",
    "# The original data\n",
    "drinks ={\n",
    "    \"gnt\":['gin', 'tonic'],\n",
    "    \"negroni\":[\"gin\", \"campari\", \"vermouth_rosso\"],\n",
    "    \"americano\":[\"soda\", \"campari\", \"vermouth_rosso\"],\n",
    "    \"cuba_libre\":[\"rum\", \"coke\"],    \n",
    "    \"manhatten\":[\"bourbon\", \"vermouth_rosso\",\"angostura\",\"lillet_blanc\"],\n",
    "    \"whiskey_sour\":[\"whiskey\", \"lemon_juice\", \"simple_syrup\"],\n",
    "    \"old_fashioned\":[\"bourbon\",\"angostura\",\"simple_syrup\"],\n",
    "    \"martini\":[\"gin\",\"lillet_blanc\"],\n",
    "    \"bellini\":[\"prosecco\", \"peach_puree\"],\n",
    "    \"aperol_spritz\":[\"prosecco\",\"aperol\"],\n",
    "    \"perfect_guest\":[\"vodka\", \"lillet_blanc\",\"st_germain_elderflower_liquer\",\"angostura\"],\n",
    "    \"perfect_olivia\":[\"gin\", \"lillet_blanc\",\"st_germain_elderflower_liquer\",\"angostura\"],\n",
    "    \"hemingway_daqueri\":[\"rum\", \"pink_graperuit_juice\", \"maraschino_liquer\", \"lime_juice\", \"simple_syrup\"],\n",
    "    \"daqueri\":[\"rum\", \"lime_juice\", ],\n",
    "    \"last_word\":[\"gin\", \"chartreuse\",\"maraschino_liquer\", \"lime_juice\"],\n",
    "    \"vesper\": [\"gin\", \"vodka\", \"lillet_blanc\"],\n",
    "    \"tom_collins\":[\"gin\", \"simple_syrup\", \"lemon_juice\", \"soda\"],\n",
    "    \"fitzgerals\":[\"gin\",\"simple_syrup\",\"lemon_juice\",\"angostura\"],\n",
    "    \"bramble\":[\"gin\",\"creme_de_mure\",\"simple_syrup\", \"lemon_juice\", \"soda\"],\n",
    "    \"paloma_t\":[\"tequila\", \"grapefruite_soda\", \"lime_juice\"],\n",
    "    \"french_75\": [\"gin\", \"champagne\", \"lemon_juice\", \"simple_syrup\"],\n",
    "    \"italian_75\": [\"gin\", \"prosecco\", \"lemon_juice\", \"simple_syrup\"],\n",
    "    \"amaretto_sour\":[\"amaretto\", \"lemon_juice\", \"angostura\"],\n",
    "    \"gimlet\":[\"gin\",\"lime_juice\", \"simple_syrup\"],\n",
    "    \"espresso_martini\":[\"vodka\", \"coffee_liqueur\", \"coffee\"],\n",
    "    \"oh_snap\":[\"gin\",\"maraschino_liquer\",\"st_germain_elderflower_liquer\", \"lemon_juice\"],\n",
    "    \"last_word\":[\"gin\",\"chartreuse\", \"maraschino_liquer\", \"lime_juice\"],\n",
    "    \"hanky_panky\":[\"gin\", \"vermouth_rosso\", \"amaro\"],\n",
    "    \"soho_house_tonic\":[\"gin\",\"cucumber\",\"lime_juice\", \"simple_syrup\", \"mint\"]\n",
    "    \n",
    "}"
   ]
  },
  {
   "cell_type": "markdown",
   "metadata": {},
   "source": [
    "## Data\n",
    "First, let cast the input data into the `Drinks` and `Ingredient` classes:"
   ]
  },
  {
   "cell_type": "code",
   "execution_count": null,
   "metadata": {},
   "outputs": [],
   "source": []
  },
  {
   "cell_type": "code",
   "execution_count": 2,
   "metadata": {},
   "outputs": [],
   "source": [
    "purchase = sorted({x for v in drinks.values() for x in v})\n",
    "list_of_ingredients = [Ingredient.Ingredient(p) for p in purchase]\n",
    "list_of_drinks = []\n",
    "for d in drinks:\n",
    "    ingredients = [i for i in list_of_ingredients if i.name in drinks[d]]\n",
    "    list_of_drinks.append(Ingredient.Drink(d, ingredients))"
   ]
  },
  {
   "cell_type": "markdown",
   "metadata": {},
   "source": [
    "## Solve the problem\n",
    "Now we use the model builder to solve the problem:"
   ]
  },
  {
   "cell_type": "code",
   "execution_count": 3,
   "metadata": {},
   "outputs": [],
   "source": [
    "mb = ModelBuilder.ModelBuilder(list_of_drinks, list_of_ingredients, 5)"
   ]
  },
  {
   "cell_type": "code",
   "execution_count": 4,
   "metadata": {},
   "outputs": [
    {
     "data": {
      "text/plain": [
       "([Drink(name='gnt', ingredients=[Ingredient(name='gin', cost=1, usage_speed=1, is_already_present=False), Ingredient(name='tonic', cost=1, usage_speed=1, is_already_present=False)]),\n",
       "  Drink(name='martini', ingredients=[Ingredient(name='gin', cost=1, usage_speed=1, is_already_present=False), Ingredient(name='lillet_blanc', cost=1, usage_speed=1, is_already_present=False)]),\n",
       "  Drink(name='perfect_guest', ingredients=[Ingredient(name='angostura', cost=1, usage_speed=1, is_already_present=False), Ingredient(name='lillet_blanc', cost=1, usage_speed=1, is_already_present=False), Ingredient(name='st_germain_elderflower_liquer', cost=1, usage_speed=1, is_already_present=False), Ingredient(name='vodka', cost=1, usage_speed=1, is_already_present=False)]),\n",
       "  Drink(name='perfect_olivia', ingredients=[Ingredient(name='angostura', cost=1, usage_speed=1, is_already_present=False), Ingredient(name='gin', cost=1, usage_speed=1, is_already_present=False), Ingredient(name='lillet_blanc', cost=1, usage_speed=1, is_already_present=False), Ingredient(name='st_germain_elderflower_liquer', cost=1, usage_speed=1, is_already_present=False)]),\n",
       "  Drink(name='vesper', ingredients=[Ingredient(name='gin', cost=1, usage_speed=1, is_already_present=False), Ingredient(name='lillet_blanc', cost=1, usage_speed=1, is_already_present=False), Ingredient(name='vodka', cost=1, usage_speed=1, is_already_present=False)])],\n",
       " [Ingredient(name='angostura', cost=1, usage_speed=1, is_already_present=False),\n",
       "  Ingredient(name='gin', cost=1, usage_speed=1, is_already_present=False),\n",
       "  Ingredient(name='lillet_blanc', cost=1, usage_speed=1, is_already_present=False),\n",
       "  Ingredient(name='st_germain_elderflower_liquer', cost=1, usage_speed=1, is_already_present=False),\n",
       "  Ingredient(name='tonic', cost=1, usage_speed=1, is_already_present=False),\n",
       "  Ingredient(name='vodka', cost=1, usage_speed=1, is_already_present=False)])"
      ]
     },
     "execution_count": 4,
     "metadata": {},
     "output_type": "execute_result"
    }
   ],
   "source": [
    "mb.solve()"
   ]
  },
  {
   "cell_type": "code",
   "execution_count": null,
   "metadata": {},
   "outputs": [],
   "source": [
    "list_of_ingredients"
   ]
  },
  {
   "cell_type": "code",
   "execution_count": null,
   "metadata": {},
   "outputs": [],
   "source": [
    "import mip\n",
    "model = mip.Model(\"Test\")"
   ]
  },
  {
   "cell_type": "code",
   "execution_count": null,
   "metadata": {},
   "outputs": [],
   "source": [
    "p = {i : model.add_var(var_type=mip.BINARY) for i in list_of_ingredients}"
   ]
  },
  {
   "cell_type": "code",
   "execution_count": null,
   "metadata": {},
   "outputs": [],
   "source": [
    "y = {d: model.add_var(var_type=mip.BINARY) for d in list_of_drinks}"
   ]
  },
  {
   "cell_type": "code",
   "execution_count": null,
   "metadata": {},
   "outputs": [],
   "source": [
    "list_of_drinks[0]"
   ]
  },
  {
   "cell_type": "code",
   "execution_count": null,
   "metadata": {},
   "outputs": [],
   "source": []
  }
 ],
 "metadata": {
  "kernelspec": {
   "display_name": "Python 3",
   "language": "python",
   "name": "python3"
  },
  "language_info": {
   "codemirror_mode": {
    "name": "ipython",
    "version": 3
   },
   "file_extension": ".py",
   "mimetype": "text/x-python",
   "name": "python",
   "nbconvert_exporter": "python",
   "pygments_lexer": "ipython3",
   "version": "3.7.7"
  }
 },
 "nbformat": 4,
 "nbformat_minor": 4
}
